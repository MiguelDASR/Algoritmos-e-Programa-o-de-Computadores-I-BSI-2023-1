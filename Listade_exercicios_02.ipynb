{
  "nbformat": 4,
  "nbformat_minor": 0,
  "metadata": {
    "colab": {
      "provenance": [],
      "include_colab_link": true
    },
    "kernelspec": {
      "name": "python3",
      "display_name": "Python 3"
    },
    "language_info": {
      "name": "python"
    }
  },
  "cells": [
    {
      "cell_type": "markdown",
      "metadata": {
        "id": "view-in-github",
        "colab_type": "text"
      },
      "source": [
        "<a href=\"https://colab.research.google.com/github/MiguelDASR/Algoritmos-e-Programa-o-de-Computadores-I-BSI-2023-1/blob/main/Listade_exercicios_02.ipynb\" target=\"_parent\"><img src=\"https://colab.research.google.com/assets/colab-badge.svg\" alt=\"Open In Colab\"/></a>"
      ]
    },
    {
      "cell_type": "markdown",
      "source": [
        "\n",
        "Lista ALG_Extra_01.pdf\n",
        "\n",
        "\n"
      ],
      "metadata": {
        "id": "dN-63p0kHj8P"
      }
    },
    {
      "cell_type": "markdown",
      "source": [
        "1"
      ],
      "metadata": {
        "id": "iakTcCvO7XyD"
      }
    },
    {
      "cell_type": "code",
      "execution_count": null,
      "metadata": {
        "colab": {
          "base_uri": "https://localhost:8080/"
        },
        "id": "3kQXJ5ZJ7Oyt",
        "outputId": "8861b3c3-7762-4257-d496-8f00a1dc384e"
      },
      "outputs": [
        {
          "output_type": "stream",
          "name": "stdout",
          "text": [
            "Qual o valor do lado 15\n",
            "225.0 é o valor da area\n",
            "60.0 é o valor do perimetro\n"
          ]
        }
      ],
      "source": [
        "lado1 = float(input('Qual o valor do lado? '))\n",
        "print(lado1 * lado1,'é o valor da area')\n",
        "print(lado1 * 4, 'é o valor do perimetro' )"
      ]
    },
    {
      "cell_type": "markdown",
      "source": [
        "2"
      ],
      "metadata": {
        "id": "qjZbbL688E6U"
      }
    },
    {
      "cell_type": "code",
      "source": [
        "nome = str(input('Qual o seu nome? '))\n",
        "filhos = str(input('Quantos filhos você tem? '))\n",
        "print ('Seu nome é {} e você tem {} filhos'.format(nome, filhos))"
      ],
      "metadata": {
        "colab": {
          "base_uri": "https://localhost:8080/"
        },
        "id": "wSTotW2y8GMT",
        "outputId": "0725490d-b68b-4c1e-c424-b46aacfccea8"
      },
      "execution_count": null,
      "outputs": [
        {
          "output_type": "stream",
          "name": "stdout",
          "text": [
            "Qual o seu nome? mig\n",
            "Quantos filhos você tem? 45\n",
            "Seu nome é mig e você tem 45 filhos\n"
          ]
        }
      ]
    },
    {
      "cell_type": "markdown",
      "source": [
        "3"
      ],
      "metadata": {
        "id": "O8c9gdc68Lcz"
      }
    },
    {
      "cell_type": "code",
      "source": [
        "base = float(input('Qual a base do retangulo? '))\n",
        "altura = float(input('Qual o valor da altura do retangulo? '))\n",
        "print('Seu perimetro é de:', (2*(base + altura)), 'E sua area é de:', base * altura)"
      ],
      "metadata": {
        "colab": {
          "base_uri": "https://localhost:8080/"
        },
        "id": "Fo2QCg5z8LDb",
        "outputId": "992d2f8e-3bde-4a32-be1d-dad7071fdb9b"
      },
      "execution_count": null,
      "outputs": [
        {
          "output_type": "stream",
          "name": "stdout",
          "text": [
            "Qual a base do retangulo?14\n",
            "Qual o valor da altura do retangulo?1\n",
            "Seu perimetro é de: 30.0 E sua area é de: 14.0\n"
          ]
        }
      ]
    },
    {
      "cell_type": "markdown",
      "source": [
        "4"
      ],
      "metadata": {
        "id": "R2ztlnzx8RYL"
      }
    },
    {
      "cell_type": "code",
      "source": [
        "lado = float(input('Valor do lado: '))\n",
        "area = (lado ** 2) * 6 \n",
        "volume = lado ** 3\n",
        "print('O valor da área do cubo é', area, 'e seu volume é', volume) "
      ],
      "metadata": {
        "id": "atM784J_8SKr",
        "colab": {
          "base_uri": "https://localhost:8080/"
        },
        "outputId": "b6fd7be2-d914-4c0e-965e-f5cab6063907"
      },
      "execution_count": null,
      "outputs": [
        {
          "output_type": "stream",
          "name": "stdout",
          "text": [
            "Valor do lado: 48\n",
            "O valor da área do cubo é 1350.0 e seu volume é 110592.0\n"
          ]
        }
      ]
    },
    {
      "cell_type": "markdown",
      "source": [
        "5"
      ],
      "metadata": {
        "id": "y5hlAzpjCsbh"
      }
    },
    {
      "cell_type": "code",
      "source": [
        "dividendo = int(input('Dividendo: '))\n",
        "divisor = int(input('Divisor: '))\n",
        "print('o quociente é', dividendo // divisor, 'e o resto da divisão inteira é', dividendo % divisor )"
      ],
      "metadata": {
        "colab": {
          "base_uri": "https://localhost:8080/"
        },
        "id": "z0oKNfNcCtPp",
        "outputId": "2008e1a4-3604-44f1-ed4f-ecaeb07d2ff4"
      },
      "execution_count": null,
      "outputs": [
        {
          "output_type": "stream",
          "name": "stdout",
          "text": [
            "Dividendo: 21\n",
            "Divisor: 12\n",
            "o quociente é 1 resto da divisão inteira é 9\n"
          ]
        }
      ]
    },
    {
      "cell_type": "markdown",
      "source": [
        "6"
      ],
      "metadata": {
        "id": "Q-guCq0JEskw"
      }
    },
    {
      "cell_type": "code",
      "source": [
        "base = float(input('Valor da base: '))\n",
        "altura = float(input('Valor da altura: '))\n",
        "print('A a sua área é', ( ( base * altura ) / 2 ))"
      ],
      "metadata": {
        "id": "JOJ_9GczFMPg"
      },
      "execution_count": null,
      "outputs": []
    },
    {
      "cell_type": "markdown",
      "source": [
        "7"
      ],
      "metadata": {
        "id": "3LDaYbc5HhXn"
      }
    },
    {
      "cell_type": "code",
      "source": [
        "raio = float(input('Qual o raio da circunferência: '))\n",
        "print('O perimetro e a area são de:\\n', 2 * 3.14 * raio, '\\n', 3.14 * raio ** 2)"
      ],
      "metadata": {
        "colab": {
          "base_uri": "https://localhost:8080/"
        },
        "id": "YeS_gmscHzO2",
        "outputId": "fb696dd6-b49f-4880-93d6-6bf8b4489a4d"
      },
      "execution_count": null,
      "outputs": [
        {
          "output_type": "stream",
          "name": "stdout",
          "text": [
            "Qual o raio da circunferência: 4\n",
            "O perimetro e a area são de:\n",
            " 25.12 \n",
            " 50.24\n"
          ]
        }
      ]
    },
    {
      "cell_type": "code",
      "source": [
        "raio = float(input('Qual o raio da circunferência: '))\n",
        "perimetro =  2 * 3.14159 * raio\n",
        "area = 3.14159 * raio ** 2\n",
        "print(f'O perimetro e a area são de:\\n {perimetro} \\n {area}')"
      ],
      "metadata": {
        "colab": {
          "base_uri": "https://localhost:8080/"
        },
        "id": "IehRVbtiK04F",
        "outputId": "c9926338-065b-45b3-d3cc-9b7271aa12c1"
      },
      "execution_count": null,
      "outputs": [
        {
          "output_type": "stream",
          "name": "stdout",
          "text": [
            "Qual o raio da circunferência: 4\n",
            "O perimetro e a area são de:\n",
            " 25.13272 \n",
            " 50.26544\n"
          ]
        }
      ]
    },
    {
      "cell_type": "markdown",
      "source": [
        "Lista EstruturaSequencial - PythonBrasil.pdf"
      ],
      "metadata": {
        "id": "ot0bVxUWN8cs"
      }
    },
    {
      "cell_type": "markdown",
      "source": [
        "1"
      ],
      "metadata": {
        "id": "pdnAycTldimn"
      }
    },
    {
      "cell_type": "code",
      "source": [
        "print('Ola mundo')"
      ],
      "metadata": {
        "colab": {
          "base_uri": "https://localhost:8080/"
        },
        "id": "pc7sK5s4OENN",
        "outputId": "f383c20d-6e14-43ac-9936-3259f5096b3b"
      },
      "execution_count": null,
      "outputs": [
        {
          "output_type": "stream",
          "name": "stdout",
          "text": [
            "Ola mundo\n"
          ]
        }
      ]
    },
    {
      "cell_type": "markdown",
      "source": [
        "2\n"
      ],
      "metadata": {
        "id": "4ryRA9LgdkfP"
      }
    },
    {
      "cell_type": "code",
      "source": [
        "numero = input('Digite um numero: ')\n",
        "print('O número informado foi', numero)"
      ],
      "metadata": {
        "colab": {
          "base_uri": "https://localhost:8080/"
        },
        "id": "K3HiPTcFdlOv",
        "outputId": "0cca9c29-b702-4da4-d88c-8aeef885356f"
      },
      "execution_count": null,
      "outputs": [
        {
          "output_type": "stream",
          "name": "stdout",
          "text": [
            "Digite um numero: 4.5\n",
            "O número informado foi 4.5\n"
          ]
        }
      ]
    },
    {
      "cell_type": "markdown",
      "source": [
        "3"
      ],
      "metadata": {
        "id": "1XXxPNgueHqf"
      }
    },
    {
      "cell_type": "code",
      "source": [
        "num_1 = float(input('Insira o primeiro numero: '))\n",
        "num_2 = float(input('Insira o segundo numero: '))\n",
        "print('Asoma dos numeros informados é', num_1 + num_2)"
      ],
      "metadata": {
        "colab": {
          "base_uri": "https://localhost:8080/"
        },
        "id": "qwys8anbeJAd",
        "outputId": "864ca34a-caaa-4ecc-ed81-960beb68dd7d"
      },
      "execution_count": null,
      "outputs": [
        {
          "output_type": "stream",
          "name": "stdout",
          "text": [
            "Insira o primeiro numero: 4\n",
            "Insira o segundo numero: 4\n",
            "Asoma dos numeros informados é 8.0\n"
          ]
        }
      ]
    },
    {
      "cell_type": "markdown",
      "source": [
        "4"
      ],
      "metadata": {
        "id": "_4aX4GLwe7a-"
      }
    },
    {
      "cell_type": "code",
      "source": [
        "nota_1 = float(input('Qual a primeira nota do bimestre: '))\n",
        "nota_2 = float(input('Qual a segunda nota do bimestre: '))\n",
        "nota_3 = float(input('Qual a terceira nota do bimestre: '))\n",
        "nota_4 = float(input('Qual a quarta nota do bimestre: '))\n",
        "media = (nota_1 + nota_2 + nota_3 + nota_4) / 4\n",
        "print('A média é:', media)"
      ],
      "metadata": {
        "colab": {
          "base_uri": "https://localhost:8080/"
        },
        "id": "GF_X9xX3e9Bu",
        "outputId": "ff66c648-8b66-4da1-9de3-daace861f354"
      },
      "execution_count": null,
      "outputs": [
        {
          "output_type": "stream",
          "name": "stdout",
          "text": [
            "Qual a primeira nota do bimestre: 10\n",
            "Qual a segunda nota do bimestre: 10\n",
            "Qual a terceira nota do bimestre: 10\n",
            "Qual a quarta nota do bimestre: 10\n",
            "A média é: 10.0\n"
          ]
        }
      ]
    },
    {
      "cell_type": "markdown",
      "source": [
        "5"
      ],
      "metadata": {
        "id": "Cq6xqxOHgHd_"
      }
    },
    {
      "cell_type": "code",
      "source": [
        "metros = float(input('Quantos metros você deseja converter? '))\n",
        "conversao = metros * 100\n",
        "print(conversao, 'centímetros')"
      ],
      "metadata": {
        "colab": {
          "base_uri": "https://localhost:8080/"
        },
        "id": "Y08ve8N5gI6d",
        "outputId": "0eece150-683b-472f-d610-3d8398615bc2"
      },
      "execution_count": null,
      "outputs": [
        {
          "output_type": "stream",
          "name": "stdout",
          "text": [
            "Quantos metros você deseja converter? 44\n",
            "4400.0 centimetros\n"
          ]
        }
      ]
    },
    {
      "cell_type": "markdown",
      "source": [
        "6"
      ],
      "metadata": {
        "id": "_LxKb-eIhrd2"
      }
    },
    {
      "cell_type": "code",
      "source": [
        "raio = float(input('Qual o raio do circulo? '))\n",
        "area = 3.14159 * raio **2\n",
        "print('A area do circulo é', area)"
      ],
      "metadata": {
        "colab": {
          "base_uri": "https://localhost:8080/"
        },
        "id": "2CbMi7xYhsgc",
        "outputId": "9454a09f-8107-48ec-e1d4-c5c9ed58b6bf"
      },
      "execution_count": null,
      "outputs": [
        {
          "output_type": "stream",
          "name": "stdout",
          "text": [
            "Qual o raio do circulo? 46\n",
            "A area do circulo é 6647.60444\n"
          ]
        }
      ]
    },
    {
      "cell_type": "markdown",
      "source": [
        "7"
      ],
      "metadata": {
        "id": "AVas1aBrkQ2l"
      }
    },
    {
      "cell_type": "code",
      "source": [
        "lado = float(input('Insira o lado do quadrado: '))\n",
        "area = (lado **  2) *2\n",
        "print('O dobro da area deste quadrado é', area)"
      ],
      "metadata": {
        "colab": {
          "base_uri": "https://localhost:8080/"
        },
        "id": "2udaImgokRt1",
        "outputId": "bcdd9729-8f10-456e-bd38-a96948e6c962"
      },
      "execution_count": null,
      "outputs": [
        {
          "output_type": "stream",
          "name": "stdout",
          "text": [
            "Insira o lado do quadrado: 78\n",
            "O dobro da area deste quadrado é 12168.0\n"
          ]
        }
      ]
    },
    {
      "cell_type": "markdown",
      "source": [
        "8"
      ],
      "metadata": {
        "id": "YsL54SJilamj"
      }
    },
    {
      "cell_type": "code",
      "source": [
        "salario_h = float(input('Quanto você ganha por hora? '))\n",
        "hora_trabalhada = float(input('Quantas horas você trabalhou esse mês? '))\n",
        "print('O valor do seu salario é:', salario_h * hora_trabalhada)"
      ],
      "metadata": {
        "colab": {
          "base_uri": "https://localhost:8080/"
        },
        "id": "lmPlOWxplnrt",
        "outputId": "cf13f8f2-8db8-4a9e-be97-88b2594a434c"
      },
      "execution_count": null,
      "outputs": [
        {
          "output_type": "stream",
          "name": "stdout",
          "text": [
            "Quanto você ganha por hora? 50\n",
            "Quantas horas você trabalhou esse mês? 240\n",
            "O valor do seu salario é 12000.0\n"
          ]
        }
      ]
    },
    {
      "cell_type": "markdown",
      "source": [
        "9"
      ],
      "metadata": {
        "id": "ETZW875snHqE"
      }
    },
    {
      "cell_type": "code",
      "source": [
        "farenheit = float(input('Insira a temperatura em farenheit: '))\n",
        "conversao = ((float(farenheit) - 32) * 5 / 9)\n",
        "print('A temeratura em graus Celsius é:', conversao)"
      ],
      "metadata": {
        "colab": {
          "base_uri": "https://localhost:8080/"
        },
        "id": "_-PzuSS4nxtL",
        "outputId": "5928904a-cbef-4875-b8ee-497b0c699ba6"
      },
      "execution_count": null,
      "outputs": [
        {
          "output_type": "stream",
          "name": "stdout",
          "text": [
            "Insira a temperatura em farenheit: 25\n",
            "A temeratura em graus Celsius é: -3.888888888888889\n"
          ]
        }
      ]
    },
    {
      "cell_type": "markdown",
      "source": [
        "10"
      ],
      "metadata": {
        "id": "ZavdtGeKpx5L"
      }
    },
    {
      "cell_type": "code",
      "source": [
        "celsius = float(input('Insira a temperatura em Celsius: '))\n",
        "conversao = (float(celsius) * 9 / 5 + 32)\n",
        "print('A temeratura em graus farenheit é:', conversao)"
      ],
      "metadata": {
        "colab": {
          "base_uri": "https://localhost:8080/"
        },
        "id": "unlcg_EPpy-6",
        "outputId": "dc8847fc-8552-4c30-b7bd-16e177387d81"
      },
      "execution_count": null,
      "outputs": [
        {
          "output_type": "stream",
          "name": "stdout",
          "text": [
            "Insira a temperatura em Celsius: 32\n",
            "A temeratura em graus farenheit é: 89.6\n"
          ]
        }
      ]
    },
    {
      "cell_type": "markdown",
      "source": [
        "11"
      ],
      "metadata": {
        "id": "QSU37ZnIqgKy"
      }
    },
    {
      "cell_type": "code",
      "source": [],
      "metadata": {
        "id": "3PzXvvz2qqkT"
      },
      "execution_count": null,
      "outputs": []
    }
  ]
}